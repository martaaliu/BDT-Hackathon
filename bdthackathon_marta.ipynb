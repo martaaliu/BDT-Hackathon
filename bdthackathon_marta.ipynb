{
  "nbformat": 4,
  "nbformat_minor": 0,
  "metadata": {
    "colab": {
      "name": "bdthackathon_marta.ipynb",
      "provenance": [],
      "collapsed_sections": [
        "Hfgc2xuTcyKv",
        "6LmVaH_qdDWy"
      ]
    },
    "kernelspec": {
      "display_name": "Python 3",
      "name": "python3"
    },
    "language_info": {
      "name": "python"
    },
    "widgets": {
      "application/vnd.jupyter.widget-state+json": {
        "7124b855c64f4eecaa8f87b98e43c76c": {
          "model_module": "@jupyter-widgets/controls",
          "model_name": "HBoxModel",
          "state": {
            "_view_name": "HBoxView",
            "_dom_classes": [],
            "_model_name": "HBoxModel",
            "_view_module": "@jupyter-widgets/controls",
            "_model_module_version": "1.5.0",
            "_view_count": null,
            "_view_module_version": "1.5.0",
            "box_style": "",
            "layout": "IPY_MODEL_f4ada4d2df22412eb30147c60a80e4f1",
            "_model_module": "@jupyter-widgets/controls",
            "children": [
              "IPY_MODEL_c3c00f823e7d41889c8ee039d48fbcc8",
              "IPY_MODEL_2f9771599cdb4561bc7fb6af1441735f"
            ]
          }
        },
        "f4ada4d2df22412eb30147c60a80e4f1": {
          "model_module": "@jupyter-widgets/base",
          "model_name": "LayoutModel",
          "state": {
            "_view_name": "LayoutView",
            "grid_template_rows": null,
            "right": null,
            "justify_content": null,
            "_view_module": "@jupyter-widgets/base",
            "overflow": null,
            "_model_module_version": "1.2.0",
            "_view_count": null,
            "flex_flow": null,
            "width": null,
            "min_width": null,
            "border": null,
            "align_items": null,
            "bottom": null,
            "_model_module": "@jupyter-widgets/base",
            "top": null,
            "grid_column": null,
            "overflow_y": null,
            "overflow_x": null,
            "grid_auto_flow": null,
            "grid_area": null,
            "grid_template_columns": null,
            "flex": null,
            "_model_name": "LayoutModel",
            "justify_items": null,
            "grid_row": null,
            "max_height": null,
            "align_content": null,
            "visibility": null,
            "align_self": null,
            "height": null,
            "min_height": null,
            "padding": null,
            "grid_auto_rows": null,
            "grid_gap": null,
            "max_width": null,
            "order": null,
            "_view_module_version": "1.2.0",
            "grid_template_areas": null,
            "object_position": null,
            "object_fit": null,
            "grid_auto_columns": null,
            "margin": null,
            "display": null,
            "left": null
          }
        },
        "c3c00f823e7d41889c8ee039d48fbcc8": {
          "model_module": "@jupyter-widgets/controls",
          "model_name": "FloatProgressModel",
          "state": {
            "_view_name": "ProgressView",
            "style": "IPY_MODEL_f81b5f5d6521499e9ed8e8c164f7f733",
            "_dom_classes": [],
            "description": "100%",
            "_model_name": "FloatProgressModel",
            "bar_style": "success",
            "max": 50,
            "_view_module": "@jupyter-widgets/controls",
            "_model_module_version": "1.5.0",
            "value": 50,
            "_view_count": null,
            "_view_module_version": "1.5.0",
            "orientation": "horizontal",
            "min": 0,
            "description_tooltip": null,
            "_model_module": "@jupyter-widgets/controls",
            "layout": "IPY_MODEL_a3f2549626bb4946a9c5651028f30e12"
          }
        },
        "2f9771599cdb4561bc7fb6af1441735f": {
          "model_module": "@jupyter-widgets/controls",
          "model_name": "HTMLModel",
          "state": {
            "_view_name": "HTMLView",
            "style": "IPY_MODEL_808323fe28174729aab2faf6a65380a8",
            "_dom_classes": [],
            "description": "",
            "_model_name": "HTMLModel",
            "placeholder": "​",
            "_view_module": "@jupyter-widgets/controls",
            "_model_module_version": "1.5.0",
            "value": " 50/50 [12:04&lt;00:00, 14.48s/it]",
            "_view_count": null,
            "_view_module_version": "1.5.0",
            "description_tooltip": null,
            "_model_module": "@jupyter-widgets/controls",
            "layout": "IPY_MODEL_b38524bfbf9f47a4b6af6c35349932db"
          }
        },
        "f81b5f5d6521499e9ed8e8c164f7f733": {
          "model_module": "@jupyter-widgets/controls",
          "model_name": "ProgressStyleModel",
          "state": {
            "_view_name": "StyleView",
            "_model_name": "ProgressStyleModel",
            "description_width": "initial",
            "_view_module": "@jupyter-widgets/base",
            "_model_module_version": "1.5.0",
            "_view_count": null,
            "_view_module_version": "1.2.0",
            "bar_color": null,
            "_model_module": "@jupyter-widgets/controls"
          }
        },
        "a3f2549626bb4946a9c5651028f30e12": {
          "model_module": "@jupyter-widgets/base",
          "model_name": "LayoutModel",
          "state": {
            "_view_name": "LayoutView",
            "grid_template_rows": null,
            "right": null,
            "justify_content": null,
            "_view_module": "@jupyter-widgets/base",
            "overflow": null,
            "_model_module_version": "1.2.0",
            "_view_count": null,
            "flex_flow": null,
            "width": null,
            "min_width": null,
            "border": null,
            "align_items": null,
            "bottom": null,
            "_model_module": "@jupyter-widgets/base",
            "top": null,
            "grid_column": null,
            "overflow_y": null,
            "overflow_x": null,
            "grid_auto_flow": null,
            "grid_area": null,
            "grid_template_columns": null,
            "flex": null,
            "_model_name": "LayoutModel",
            "justify_items": null,
            "grid_row": null,
            "max_height": null,
            "align_content": null,
            "visibility": null,
            "align_self": null,
            "height": null,
            "min_height": null,
            "padding": null,
            "grid_auto_rows": null,
            "grid_gap": null,
            "max_width": null,
            "order": null,
            "_view_module_version": "1.2.0",
            "grid_template_areas": null,
            "object_position": null,
            "object_fit": null,
            "grid_auto_columns": null,
            "margin": null,
            "display": null,
            "left": null
          }
        },
        "808323fe28174729aab2faf6a65380a8": {
          "model_module": "@jupyter-widgets/controls",
          "model_name": "DescriptionStyleModel",
          "state": {
            "_view_name": "StyleView",
            "_model_name": "DescriptionStyleModel",
            "description_width": "",
            "_view_module": "@jupyter-widgets/base",
            "_model_module_version": "1.5.0",
            "_view_count": null,
            "_view_module_version": "1.2.0",
            "_model_module": "@jupyter-widgets/controls"
          }
        },
        "b38524bfbf9f47a4b6af6c35349932db": {
          "model_module": "@jupyter-widgets/base",
          "model_name": "LayoutModel",
          "state": {
            "_view_name": "LayoutView",
            "grid_template_rows": null,
            "right": null,
            "justify_content": null,
            "_view_module": "@jupyter-widgets/base",
            "overflow": null,
            "_model_module_version": "1.2.0",
            "_view_count": null,
            "flex_flow": null,
            "width": null,
            "min_width": null,
            "border": null,
            "align_items": null,
            "bottom": null,
            "_model_module": "@jupyter-widgets/base",
            "top": null,
            "grid_column": null,
            "overflow_y": null,
            "overflow_x": null,
            "grid_auto_flow": null,
            "grid_area": null,
            "grid_template_columns": null,
            "flex": null,
            "_model_name": "LayoutModel",
            "justify_items": null,
            "grid_row": null,
            "max_height": null,
            "align_content": null,
            "visibility": null,
            "align_self": null,
            "height": null,
            "min_height": null,
            "padding": null,
            "grid_auto_rows": null,
            "grid_gap": null,
            "max_width": null,
            "order": null,
            "_view_module_version": "1.2.0",
            "grid_template_areas": null,
            "object_position": null,
            "object_fit": null,
            "grid_auto_columns": null,
            "margin": null,
            "display": null,
            "left": null
          }
        },
        "e414b64f865043f492580aa80a49aec9": {
          "model_module": "@jupyter-widgets/controls",
          "model_name": "HBoxModel",
          "state": {
            "_view_name": "HBoxView",
            "_dom_classes": [],
            "_model_name": "HBoxModel",
            "_view_module": "@jupyter-widgets/controls",
            "_model_module_version": "1.5.0",
            "_view_count": null,
            "_view_module_version": "1.5.0",
            "box_style": "",
            "layout": "IPY_MODEL_d96647d959da44dab462bc008bc70563",
            "_model_module": "@jupyter-widgets/controls",
            "children": [
              "IPY_MODEL_2b3538db73d24c8f81a72197eb67a67c",
              "IPY_MODEL_553abb8549fc4d608903e39f54a72c96"
            ]
          }
        },
        "d96647d959da44dab462bc008bc70563": {
          "model_module": "@jupyter-widgets/base",
          "model_name": "LayoutModel",
          "state": {
            "_view_name": "LayoutView",
            "grid_template_rows": null,
            "right": null,
            "justify_content": null,
            "_view_module": "@jupyter-widgets/base",
            "overflow": null,
            "_model_module_version": "1.2.0",
            "_view_count": null,
            "flex_flow": null,
            "width": null,
            "min_width": null,
            "border": null,
            "align_items": null,
            "bottom": null,
            "_model_module": "@jupyter-widgets/base",
            "top": null,
            "grid_column": null,
            "overflow_y": null,
            "overflow_x": null,
            "grid_auto_flow": null,
            "grid_area": null,
            "grid_template_columns": null,
            "flex": null,
            "_model_name": "LayoutModel",
            "justify_items": null,
            "grid_row": null,
            "max_height": null,
            "align_content": null,
            "visibility": null,
            "align_self": null,
            "height": null,
            "min_height": null,
            "padding": null,
            "grid_auto_rows": null,
            "grid_gap": null,
            "max_width": null,
            "order": null,
            "_view_module_version": "1.2.0",
            "grid_template_areas": null,
            "object_position": null,
            "object_fit": null,
            "grid_auto_columns": null,
            "margin": null,
            "display": null,
            "left": null
          }
        },
        "2b3538db73d24c8f81a72197eb67a67c": {
          "model_module": "@jupyter-widgets/controls",
          "model_name": "FloatProgressModel",
          "state": {
            "_view_name": "ProgressView",
            "style": "IPY_MODEL_c858e10a47e3453a924c36d1f3680a33",
            "_dom_classes": [],
            "description": "100%",
            "_model_name": "FloatProgressModel",
            "bar_style": "success",
            "max": 20,
            "_view_module": "@jupyter-widgets/controls",
            "_model_module_version": "1.5.0",
            "value": 20,
            "_view_count": null,
            "_view_module_version": "1.5.0",
            "orientation": "horizontal",
            "min": 0,
            "description_tooltip": null,
            "_model_module": "@jupyter-widgets/controls",
            "layout": "IPY_MODEL_50ef83699c7741b69ade99116b606e57"
          }
        },
        "553abb8549fc4d608903e39f54a72c96": {
          "model_module": "@jupyter-widgets/controls",
          "model_name": "HTMLModel",
          "state": {
            "_view_name": "HTMLView",
            "style": "IPY_MODEL_a8b7ca04900e4e8881111fe2502cf135",
            "_dom_classes": [],
            "description": "",
            "_model_name": "HTMLModel",
            "placeholder": "​",
            "_view_module": "@jupyter-widgets/controls",
            "_model_module_version": "1.5.0",
            "value": " 20/20 [2:14:08&lt;00:00, 402.42s/it]",
            "_view_count": null,
            "_view_module_version": "1.5.0",
            "description_tooltip": null,
            "_model_module": "@jupyter-widgets/controls",
            "layout": "IPY_MODEL_79a7a79446794baa87c3de450c890ea9"
          }
        },
        "c858e10a47e3453a924c36d1f3680a33": {
          "model_module": "@jupyter-widgets/controls",
          "model_name": "ProgressStyleModel",
          "state": {
            "_view_name": "StyleView",
            "_model_name": "ProgressStyleModel",
            "description_width": "initial",
            "_view_module": "@jupyter-widgets/base",
            "_model_module_version": "1.5.0",
            "_view_count": null,
            "_view_module_version": "1.2.0",
            "bar_color": null,
            "_model_module": "@jupyter-widgets/controls"
          }
        },
        "50ef83699c7741b69ade99116b606e57": {
          "model_module": "@jupyter-widgets/base",
          "model_name": "LayoutModel",
          "state": {
            "_view_name": "LayoutView",
            "grid_template_rows": null,
            "right": null,
            "justify_content": null,
            "_view_module": "@jupyter-widgets/base",
            "overflow": null,
            "_model_module_version": "1.2.0",
            "_view_count": null,
            "flex_flow": null,
            "width": null,
            "min_width": null,
            "border": null,
            "align_items": null,
            "bottom": null,
            "_model_module": "@jupyter-widgets/base",
            "top": null,
            "grid_column": null,
            "overflow_y": null,
            "overflow_x": null,
            "grid_auto_flow": null,
            "grid_area": null,
            "grid_template_columns": null,
            "flex": null,
            "_model_name": "LayoutModel",
            "justify_items": null,
            "grid_row": null,
            "max_height": null,
            "align_content": null,
            "visibility": null,
            "align_self": null,
            "height": null,
            "min_height": null,
            "padding": null,
            "grid_auto_rows": null,
            "grid_gap": null,
            "max_width": null,
            "order": null,
            "_view_module_version": "1.2.0",
            "grid_template_areas": null,
            "object_position": null,
            "object_fit": null,
            "grid_auto_columns": null,
            "margin": null,
            "display": null,
            "left": null
          }
        },
        "a8b7ca04900e4e8881111fe2502cf135": {
          "model_module": "@jupyter-widgets/controls",
          "model_name": "DescriptionStyleModel",
          "state": {
            "_view_name": "StyleView",
            "_model_name": "DescriptionStyleModel",
            "description_width": "",
            "_view_module": "@jupyter-widgets/base",
            "_model_module_version": "1.5.0",
            "_view_count": null,
            "_view_module_version": "1.2.0",
            "_model_module": "@jupyter-widgets/controls"
          }
        },
        "79a7a79446794baa87c3de450c890ea9": {
          "model_module": "@jupyter-widgets/base",
          "model_name": "LayoutModel",
          "state": {
            "_view_name": "LayoutView",
            "grid_template_rows": null,
            "right": null,
            "justify_content": null,
            "_view_module": "@jupyter-widgets/base",
            "overflow": null,
            "_model_module_version": "1.2.0",
            "_view_count": null,
            "flex_flow": null,
            "width": null,
            "min_width": null,
            "border": null,
            "align_items": null,
            "bottom": null,
            "_model_module": "@jupyter-widgets/base",
            "top": null,
            "grid_column": null,
            "overflow_y": null,
            "overflow_x": null,
            "grid_auto_flow": null,
            "grid_area": null,
            "grid_template_columns": null,
            "flex": null,
            "_model_name": "LayoutModel",
            "justify_items": null,
            "grid_row": null,
            "max_height": null,
            "align_content": null,
            "visibility": null,
            "align_self": null,
            "height": null,
            "min_height": null,
            "padding": null,
            "grid_auto_rows": null,
            "grid_gap": null,
            "max_width": null,
            "order": null,
            "_view_module_version": "1.2.0",
            "grid_template_areas": null,
            "object_position": null,
            "object_fit": null,
            "grid_auto_columns": null,
            "margin": null,
            "display": null,
            "left": null
          }
        }
      }
    }
  },
  "cells": [
    {
      "cell_type": "markdown",
      "metadata": {
        "id": "sfOKVKiXdLZy"
      },
      "source": [
        "**Individual Challenge:**\n",
        "\n",
        "\n",
        "\n",
        "*   Hackathon: #bdthackathon\n",
        "*   Author: Marta Aliu Carrascosa\n",
        "\n"
      ]
    },
    {
      "cell_type": "markdown",
      "metadata": {
        "id": "PZeduBvPdt0A"
      },
      "source": [
        "## Import Packages"
      ]
    },
    {
      "cell_type": "code",
      "metadata": {
        "id": "KJKkf8yVgotr"
      },
      "source": [
        "#Install optuna. This is the hyperparameter optimization framework that will be used to obtain the best-performing machine learning model and hyperparameters\n",
        "!pip install optuna\n",
        "\n",
        "#Install CatBoost, a machine learning algorithm that uses gradient boosting on decision trees\n",
        "!pip install catboost"
      ],
      "execution_count": null,
      "outputs": []
    },
    {
      "cell_type": "code",
      "metadata": {
        "id": "fzwZ19HYY3XX"
      },
      "source": [
        "#Import all the necessary packages\n",
        "import pandas as pd\n",
        "import numpy as np\n",
        "import matplotlib.pyplot as plt\n",
        "import sklearn\n",
        "from sklearn.metrics import f1_score\n",
        "from sklearn.model_selection import train_test_split, StratifiedKFold, cross_val_score\n",
        "from sklearn.neighbors import KNeighborsClassifier\n",
        "from sklearn.tree import DecisionTreeClassifier\n",
        "from sklearn.ensemble import RandomForestClassifier\n",
        "import catboost as cb\n",
        "import optuna\n",
        "import seaborn as sns"
      ],
      "execution_count": null,
      "outputs": []
    },
    {
      "cell_type": "markdown",
      "metadata": {
        "id": "OvK3-mIYenRD"
      },
      "source": [
        "## Exploratory Data Analysis (EDA)"
      ]
    },
    {
      "cell_type": "code",
      "metadata": {
        "colab": {
          "base_uri": "https://localhost:8080/",
          "height": 203
        },
        "id": "cHjB4hHnd2pS",
        "outputId": "ac959c77-f5c6-4734-c76d-e91087cb14ba"
      },
      "source": [
        "#Load and view the first rows of the dataset\n",
        "df = pd.read_csv('https://raw.githubusercontent.com/nuwe-io/bdt_hackathon/main/particles.csv')\n",
        "df.head()"
      ],
      "execution_count": null,
      "outputs": [
        {
          "output_type": "execute_result",
          "data": {
            "text/html": [
              "<div>\n",
              "<style scoped>\n",
              "    .dataframe tbody tr th:only-of-type {\n",
              "        vertical-align: middle;\n",
              "    }\n",
              "\n",
              "    .dataframe tbody tr th {\n",
              "        vertical-align: top;\n",
              "    }\n",
              "\n",
              "    .dataframe thead th {\n",
              "        text-align: right;\n",
              "    }\n",
              "</style>\n",
              "<table border=\"1\" class=\"dataframe\">\n",
              "  <thead>\n",
              "    <tr style=\"text-align: right;\">\n",
              "      <th></th>\n",
              "      <th>alpha_1</th>\n",
              "      <th>alpha_2</th>\n",
              "      <th>alpha_3</th>\n",
              "      <th>beta_1</th>\n",
              "      <th>beta_2</th>\n",
              "      <th>beta_3</th>\n",
              "      <th>gamma_1</th>\n",
              "      <th>gamma_2</th>\n",
              "      <th>gamma_3</th>\n",
              "      <th>theta</th>\n",
              "      <th>noise</th>\n",
              "      <th>Particle</th>\n",
              "    </tr>\n",
              "  </thead>\n",
              "  <tbody>\n",
              "    <tr>\n",
              "      <th>0</th>\n",
              "      <td>NaN</td>\n",
              "      <td>-59.730861</td>\n",
              "      <td>396.928619</td>\n",
              "      <td>9.761703</td>\n",
              "      <td>-137.558889</td>\n",
              "      <td>159.598109</td>\n",
              "      <td>-137.558889</td>\n",
              "      <td>53.930955</td>\n",
              "      <td>154.713810</td>\n",
              "      <td>-232.436087</td>\n",
              "      <td>99.243140</td>\n",
              "      <td>3</td>\n",
              "    </tr>\n",
              "    <tr>\n",
              "      <th>1</th>\n",
              "      <td>147.781782</td>\n",
              "      <td>153.729532</td>\n",
              "      <td>111.998962</td>\n",
              "      <td>-174.941235</td>\n",
              "      <td>-97.888332</td>\n",
              "      <td>26.493593</td>\n",
              "      <td>-97.888332</td>\n",
              "      <td>-30.506871</td>\n",
              "      <td>-166.347802</td>\n",
              "      <td>-195.010710</td>\n",
              "      <td>20.242743</td>\n",
              "      <td>0</td>\n",
              "    </tr>\n",
              "    <tr>\n",
              "      <th>2</th>\n",
              "      <td>242.220616</td>\n",
              "      <td>82.947635</td>\n",
              "      <td>-102.073856</td>\n",
              "      <td>116.334349</td>\n",
              "      <td>-101.746729</td>\n",
              "      <td>176.452824</td>\n",
              "      <td>-101.746729</td>\n",
              "      <td>-33.419984</td>\n",
              "      <td>44.082548</td>\n",
              "      <td>-173.928682</td>\n",
              "      <td>3.806943</td>\n",
              "      <td>1</td>\n",
              "    </tr>\n",
              "    <tr>\n",
              "      <th>3</th>\n",
              "      <td>140.542085</td>\n",
              "      <td>-110.129037</td>\n",
              "      <td>215.560355</td>\n",
              "      <td>-11.927860</td>\n",
              "      <td>-11.257902</td>\n",
              "      <td>21.648833</td>\n",
              "      <td>-11.257902</td>\n",
              "      <td>240.685681</td>\n",
              "      <td>133.441269</td>\n",
              "      <td>-276.382025</td>\n",
              "      <td>0.336025</td>\n",
              "      <td>0</td>\n",
              "    </tr>\n",
              "    <tr>\n",
              "      <th>4</th>\n",
              "      <td>169.367809</td>\n",
              "      <td>-92.182925</td>\n",
              "      <td>159.995515</td>\n",
              "      <td>-272.230740</td>\n",
              "      <td>-80.483153</td>\n",
              "      <td>-97.698901</td>\n",
              "      <td>-80.483153</td>\n",
              "      <td>16.251613</td>\n",
              "      <td>-13.177148</td>\n",
              "      <td>-100.316959</td>\n",
              "      <td>24.459551</td>\n",
              "      <td>0</td>\n",
              "    </tr>\n",
              "  </tbody>\n",
              "</table>\n",
              "</div>"
            ],
            "text/plain": [
              "      alpha_1     alpha_2     alpha_3  ...       theta      noise  Particle\n",
              "0         NaN  -59.730861  396.928619  ... -232.436087  99.243140         3\n",
              "1  147.781782  153.729532  111.998962  ... -195.010710  20.242743         0\n",
              "2  242.220616   82.947635 -102.073856  ... -173.928682   3.806943         1\n",
              "3  140.542085 -110.129037  215.560355  ... -276.382025   0.336025         0\n",
              "4  169.367809  -92.182925  159.995515  ... -100.316959  24.459551         0\n",
              "\n",
              "[5 rows x 12 columns]"
            ]
          },
          "metadata": {
            "tags": []
          },
          "execution_count": 34
        }
      ]
    },
    {
      "cell_type": "code",
      "metadata": {
        "colab": {
          "base_uri": "https://localhost:8080/"
        },
        "id": "3744SxhVeCb2",
        "outputId": "0be132aa-74e6-4c4d-d593-5f32547f6941"
      },
      "source": [
        "#First, let's examine the main information of this dataset. All the fields are floats except for the labels to predict. Columns 0, 4, 5, 7, 8 and 9 have null values.\n",
        "df.info()"
      ],
      "execution_count": null,
      "outputs": [
        {
          "output_type": "stream",
          "text": [
            "<class 'pandas.core.frame.DataFrame'>\n",
            "RangeIndex: 127321 entries, 0 to 127320\n",
            "Data columns (total 12 columns):\n",
            " #   Column    Non-Null Count   Dtype  \n",
            "---  ------    --------------   -----  \n",
            " 0   alpha_1   109132 non-null  float64\n",
            " 1   alpha_2   127321 non-null  float64\n",
            " 2   alpha_3   127321 non-null  float64\n",
            " 3   beta_1    127321 non-null  float64\n",
            " 4   beta_2    127131 non-null  float64\n",
            " 5   beta_3    127206 non-null  float64\n",
            " 6   gamma_1   127321 non-null  float64\n",
            " 7   gamma_2   126594 non-null  float64\n",
            " 8   gamma_3   117897 non-null  float64\n",
            " 9   theta     126595 non-null  float64\n",
            " 10  noise     127321 non-null  float64\n",
            " 11  Particle  127321 non-null  int64  \n",
            "dtypes: float64(11), int64(1)\n",
            "memory usage: 11.7 MB\n"
          ],
          "name": "stdout"
        }
      ]
    },
    {
      "cell_type": "code",
      "metadata": {
        "colab": {
          "base_uri": "https://localhost:8080/"
        },
        "id": "0NWC5HQOrUEZ",
        "outputId": "46dff750-6eec-4343-8a13-b1044c3470bd"
      },
      "source": [
        "df.drop_duplicates(inplace=True)\n",
        "print(df.shape) #There are no duplicates since it's the same shape as before"
      ],
      "execution_count": null,
      "outputs": [
        {
          "output_type": "stream",
          "text": [
            "(127321, 12)\n"
          ],
          "name": "stdout"
        }
      ]
    },
    {
      "cell_type": "code",
      "metadata": {
        "colab": {
          "base_uri": "https://localhost:8080/"
        },
        "id": "S1yc6P0YrlHI",
        "outputId": "f951b436-5c59-432c-d25c-9fcb24f0208b"
      },
      "source": [
        "df.dropna(inplace=True)\n",
        "print(df.shape) #29371 rows have been dropped due to having NaN values"
      ],
      "execution_count": null,
      "outputs": [
        {
          "output_type": "stream",
          "text": [
            "(97950, 12)\n"
          ],
          "name": "stdout"
        }
      ]
    },
    {
      "cell_type": "code",
      "metadata": {
        "colab": {
          "base_uri": "https://localhost:8080/",
          "height": 295
        },
        "id": "HrdfqlXeh-t4",
        "outputId": "d7ccd547-9c6e-4ec1-d45d-051c48387ec4"
      },
      "source": [
        "df.describe() #beta_2 and gamma_1 have the same data except for the fact that beta_2 has null values. Once the NaN rows are dropped, these two columns are the same"
      ],
      "execution_count": null,
      "outputs": [
        {
          "output_type": "execute_result",
          "data": {
            "text/html": [
              "<div>\n",
              "<style scoped>\n",
              "    .dataframe tbody tr th:only-of-type {\n",
              "        vertical-align: middle;\n",
              "    }\n",
              "\n",
              "    .dataframe tbody tr th {\n",
              "        vertical-align: top;\n",
              "    }\n",
              "\n",
              "    .dataframe thead th {\n",
              "        text-align: right;\n",
              "    }\n",
              "</style>\n",
              "<table border=\"1\" class=\"dataframe\">\n",
              "  <thead>\n",
              "    <tr style=\"text-align: right;\">\n",
              "      <th></th>\n",
              "      <th>alpha_1</th>\n",
              "      <th>alpha_2</th>\n",
              "      <th>alpha_3</th>\n",
              "      <th>beta_1</th>\n",
              "      <th>beta_2</th>\n",
              "      <th>beta_3</th>\n",
              "      <th>gamma_1</th>\n",
              "      <th>gamma_2</th>\n",
              "      <th>gamma_3</th>\n",
              "      <th>theta</th>\n",
              "      <th>noise</th>\n",
              "      <th>Particle</th>\n",
              "    </tr>\n",
              "  </thead>\n",
              "  <tbody>\n",
              "    <tr>\n",
              "      <th>count</th>\n",
              "      <td>97950.000000</td>\n",
              "      <td>97950.000000</td>\n",
              "      <td>97950.000000</td>\n",
              "      <td>97950.000000</td>\n",
              "      <td>97950.000000</td>\n",
              "      <td>97950.000000</td>\n",
              "      <td>97950.000000</td>\n",
              "      <td>97950.000000</td>\n",
              "      <td>97950.000000</td>\n",
              "      <td>97950.000000</td>\n",
              "      <td>97950.000000</td>\n",
              "      <td>97950.000000</td>\n",
              "    </tr>\n",
              "    <tr>\n",
              "      <th>mean</th>\n",
              "      <td>-10.627942</td>\n",
              "      <td>-0.317739</td>\n",
              "      <td>49.523219</td>\n",
              "      <td>7.677710</td>\n",
              "      <td>47.025191</td>\n",
              "      <td>0.509464</td>\n",
              "      <td>47.025191</td>\n",
              "      <td>-0.187794</td>\n",
              "      <td>-20.733795</td>\n",
              "      <td>-61.563891</td>\n",
              "      <td>50.176233</td>\n",
              "      <td>1.644523</td>\n",
              "    </tr>\n",
              "    <tr>\n",
              "      <th>std</th>\n",
              "      <td>153.034325</td>\n",
              "      <td>99.971219</td>\n",
              "      <td>221.687807</td>\n",
              "      <td>165.037300</td>\n",
              "      <td>160.122152</td>\n",
              "      <td>99.958799</td>\n",
              "      <td>160.122152</td>\n",
              "      <td>99.754911</td>\n",
              "      <td>160.510171</td>\n",
              "      <td>147.139060</td>\n",
              "      <td>28.788385</td>\n",
              "      <td>1.469749</td>\n",
              "    </tr>\n",
              "    <tr>\n",
              "      <th>min</th>\n",
              "      <td>-779.841923</td>\n",
              "      <td>-391.102365</td>\n",
              "      <td>-1263.945127</td>\n",
              "      <td>-701.930722</td>\n",
              "      <td>-625.404967</td>\n",
              "      <td>-448.118855</td>\n",
              "      <td>-625.404967</td>\n",
              "      <td>-435.684650</td>\n",
              "      <td>-719.937495</td>\n",
              "      <td>-653.437102</td>\n",
              "      <td>0.000716</td>\n",
              "      <td>0.000000</td>\n",
              "    </tr>\n",
              "    <tr>\n",
              "      <th>25%</th>\n",
              "      <td>-118.826853</td>\n",
              "      <td>-68.081011</td>\n",
              "      <td>-102.512012</td>\n",
              "      <td>-108.931998</td>\n",
              "      <td>-58.840068</td>\n",
              "      <td>-66.775929</td>\n",
              "      <td>-58.840068</td>\n",
              "      <td>-67.084893</td>\n",
              "      <td>-132.563851</td>\n",
              "      <td>-159.246777</td>\n",
              "      <td>25.230381</td>\n",
              "      <td>0.000000</td>\n",
              "    </tr>\n",
              "    <tr>\n",
              "      <th>50%</th>\n",
              "      <td>-0.518598</td>\n",
              "      <td>-0.271609</td>\n",
              "      <td>48.643431</td>\n",
              "      <td>6.008264</td>\n",
              "      <td>56.000204</td>\n",
              "      <td>0.575132</td>\n",
              "      <td>56.000204</td>\n",
              "      <td>-0.409181</td>\n",
              "      <td>-14.273767</td>\n",
              "      <td>-75.208456</td>\n",
              "      <td>50.286239</td>\n",
              "      <td>2.000000</td>\n",
              "    </tr>\n",
              "    <tr>\n",
              "      <th>75%</th>\n",
              "      <td>101.959609</td>\n",
              "      <td>66.702353</td>\n",
              "      <td>198.464760</td>\n",
              "      <td>123.225646</td>\n",
              "      <td>156.150775</td>\n",
              "      <td>67.732414</td>\n",
              "      <td>156.150775</td>\n",
              "      <td>66.655890</td>\n",
              "      <td>95.191716</td>\n",
              "      <td>21.181326</td>\n",
              "      <td>75.079537</td>\n",
              "      <td>2.000000</td>\n",
              "    </tr>\n",
              "    <tr>\n",
              "      <th>max</th>\n",
              "      <td>698.044837</td>\n",
              "      <td>444.209708</td>\n",
              "      <td>1383.265329</td>\n",
              "      <td>666.078562</td>\n",
              "      <td>726.063419</td>\n",
              "      <td>448.925730</td>\n",
              "      <td>726.063419</td>\n",
              "      <td>422.094377</td>\n",
              "      <td>682.413287</td>\n",
              "      <td>689.548943</td>\n",
              "      <td>99.993348</td>\n",
              "      <td>7.000000</td>\n",
              "    </tr>\n",
              "  </tbody>\n",
              "</table>\n",
              "</div>"
            ],
            "text/plain": [
              "            alpha_1       alpha_2  ...         noise      Particle\n",
              "count  97950.000000  97950.000000  ...  97950.000000  97950.000000\n",
              "mean     -10.627942     -0.317739  ...     50.176233      1.644523\n",
              "std      153.034325     99.971219  ...     28.788385      1.469749\n",
              "min     -779.841923   -391.102365  ...      0.000716      0.000000\n",
              "25%     -118.826853    -68.081011  ...     25.230381      0.000000\n",
              "50%       -0.518598     -0.271609  ...     50.286239      2.000000\n",
              "75%      101.959609     66.702353  ...     75.079537      2.000000\n",
              "max      698.044837    444.209708  ...     99.993348      7.000000\n",
              "\n",
              "[8 rows x 12 columns]"
            ]
          },
          "metadata": {
            "tags": []
          },
          "execution_count": 38
        }
      ]
    },
    {
      "cell_type": "code",
      "metadata": {
        "colab": {
          "base_uri": "https://localhost:8080/",
          "height": 585
        },
        "id": "S2f2CFv6kElt",
        "outputId": "9d46e0be-4bfe-42bc-8fe4-e5cd2adf124d"
      },
      "source": [
        "#Check for outliers. There are some outliers in every field, but I am leaving them as they are not too extreme.\n",
        "fig, axs = plt.subplots(4,3, figsize = (15,8))\n",
        "plt1 = sns.boxplot(x=df['alpha_1'], ax = axs[0,0])\n",
        "plt2 = sns.boxplot(x=df['alpha_2'], ax = axs[0,1])\n",
        "plt3 = sns.boxplot(x=df['alpha_3'], ax = axs[0,2])\n",
        "plt1 = sns.boxplot(x=df['beta_1'], ax = axs[1,0])\n",
        "plt2 = sns.boxplot(x=df['beta_2'], ax = axs[1,1])\n",
        "plt3 = sns.boxplot(x=df['beta_3'], ax = axs[1,2])\n",
        "plt1 = sns.boxplot(x=df['gamma_1'], ax = axs[2,0])\n",
        "plt2 = sns.boxplot(x=df['gamma_2'], ax = axs[2,1])\n",
        "plt3 = sns.boxplot(x=df['gamma_3'], ax = axs[2,2])\n",
        "plt1 = sns.boxplot(x=df['theta'], ax = axs[3,0])\n",
        "plt2 = sns.boxplot(x=df['noise'], ax = axs[3,1])\n",
        "fig.delaxes(axs[3][2])\n",
        "plt.tight_layout()"
      ],
      "execution_count": null,
      "outputs": [
        {
          "output_type": "display_data",
          "data": {
            "image/png": "[encoded data removed]",
            "text/plain": [
              "<Figure size 1080x576 with 11 Axes>"
            ]
          },
          "metadata": {
            "tags": [],
            "needs_background": "light"
          }
        }
      ]
    },
    {
      "cell_type": "code",
      "metadata": {
        "colab": {
          "base_uri": "https://localhost:8080/",
          "height": 733
        },
        "id": "7AmK17RWmDuC",
        "outputId": "8df4d770-652f-4536-ca0b-0d7fcf9de7b6"
      },
      "source": [
        "#Looking at the boxplots, data is distributed similarly across all particle labels, especially for the alpha_2, beta_3, gamma_2 and noise columns.\n",
        "fig, axs = plt.subplots(4,3, figsize = (12,10))\n",
        "plt1 = sns.boxplot(x=df['Particle'], y=df['alpha_1'], ax = axs[0,0])\n",
        "plt2 = sns.boxplot(x=df['Particle'], y=df['alpha_2'], ax = axs[0,1])\n",
        "plt3 = sns.boxplot(x=df['Particle'], y=df['alpha_3'], ax = axs[0,2])\n",
        "plt1 = sns.boxplot(x=df['Particle'], y=df['beta_1'], ax = axs[1,0])\n",
        "plt2 = sns.boxplot(x=df['Particle'], y=df['beta_2'], ax = axs[1,1])\n",
        "plt3 = sns.boxplot(x=df['Particle'], y=df['beta_3'], ax = axs[1,2])\n",
        "plt1 = sns.boxplot(x=df['Particle'], y=df['gamma_1'], ax = axs[2,0])\n",
        "plt2 = sns.boxplot(x=df['Particle'], y=df['gamma_2'], ax = axs[2,1])\n",
        "plt3 = sns.boxplot(x=df['Particle'], y=df['gamma_3'], ax = axs[2,2])\n",
        "plt1 = sns.boxplot(x=df['Particle'], y=df['theta'], ax = axs[3,0])\n",
        "plt2 = sns.boxplot(x=df['Particle'], y=df['noise'], ax = axs[3,1])\n",
        "fig.delaxes(axs[3][2])\n",
        "plt.tight_layout()"
      ],
      "execution_count": null,
      "outputs": [
        {
          "output_type": "display_data",
          "data": {
            "image/png": "[encoded data removed]",
            "text/plain": [
              "<Figure size 864x720 with 11 Axes>"
            ]
          },
          "metadata": {
            "tags": [],
            "needs_background": "light"
          }
        }
      ]
    },
    {
      "cell_type": "code",
      "metadata": {
        "colab": {
          "base_uri": "https://localhost:8080/",
          "height": 526
        },
        "id": "dGYXP0E0smiO",
        "outputId": "3cd63e0a-d1df-48c5-d784-2d447543cb9a"
      },
      "source": [
        "#pairwise correlation matrix between columns. There is perfect correlation between beta_2 and gamma_1 (since they are the same once NaNs are dropped) so we can drop one of them.\n",
        "#alpha_3 and beta_1, and alpha_3 and theta have very strong negative correlation.\n",
        "plt.figure(figsize = (10, 8))\n",
        "sns.heatmap(df.corr(), annot = True, cmap=\"Blues\")\n",
        "plt.show()"
      ],
      "execution_count": null,
      "outputs": [
        {
          "output_type": "display_data",
          "data": {
            "image/png": "[encoded data removed]",
            "text/plain": [
              "<Figure size 720x576 with 2 Axes>"
            ]
          },
          "metadata": {
            "tags": [],
            "needs_background": "light"
          }
        }
      ]
    },
    {
      "cell_type": "code",
      "metadata": {
        "id": "yWfwMZcK16C3"
      },
      "source": [
        "#Drop column gamma_1, since it has the same data as beta_2. Also dropping alpha_2, beta_3, gamma_2 and noise columns since their correlation with the Particle column \n",
        "#is too small and the boxplots showed very little variation across labels for these variables\n",
        "df.drop(columns=['gamma_1', 'gamma_2', 'noise', 'beta_3', 'alpha_2'], inplace=True)"
      ],
      "execution_count": null,
      "outputs": []
    },
    {
      "cell_type": "code",
      "metadata": {
        "colab": {
          "base_uri": "https://localhost:8080/",
          "height": 329
        },
        "id": "e0d0l0x_oUWj",
        "outputId": "aced49d0-f740-4b47-a03c-4406e0fc4a66"
      },
      "source": [
        "#There are 8 particle labels. Let's have a look at their frequency based on the number of entries in the dataset for each label. We can see that it is heavily imbalanced:\n",
        "#some particles have more than 20000 entries yet others only have around 1000 entries.\n",
        "classes = df['Particle'].value_counts()\n",
        "\n",
        "fig = plt.figure()\n",
        "ax = fig.add_subplot(111)\n",
        "ax.tick_params(labelright=True)\n",
        "classes.plot(kind='bar', figsize=(7,4), yticks=np.arange(0, max(classes)+1, 3000), rot=0,\n",
        "                title='Particle Frequency').set(xlabel='Particle Label', ylabel='Particle Count (Number of Entries)')"
      ],
      "execution_count": null,
      "outputs": [
        {
          "output_type": "execute_result",
          "data": {
            "text/plain": [
              "[Text(0, 0.5, 'Particle Count (Number of Entries)'),\n",
              " Text(0.5, 0, 'Particle Label')]"
            ]
          },
          "metadata": {
            "tags": []
          },
          "execution_count": 32
        },
        {
          "output_type": "display_data",
          "data": {
            "image/png": "[encoded data removed]",
            "text/plain": [
              "<Figure size 504x288 with 1 Axes>"
            ]
          },
          "metadata": {
            "tags": [],
            "needs_background": "light"
          }
        }
      ]
    },
    {
      "cell_type": "code",
      "metadata": {
        "colab": {
          "base_uri": "https://localhost:8080/"
        },
        "id": "YHRQKqFv3DN4",
        "outputId": "ff784ed8-d9fb-4e64-91bc-f85a6b7f2e02"
      },
      "source": [
        "#Let's split the data into training and test dataset. The split is done in a stratified way to make sure that there are enough entries for each particle in both sets \n",
        "#and that each split has the same proportion of entries per particle (since they are imbalanced). The split ratio chosen is 80% training and 20% test.\n",
        "#Setting random state to a fixed value in order to compare runs and algorithms.\n",
        "X = df.iloc[:,:-1]\n",
        "y = df.iloc[:,-1]\n",
        "\n",
        "X_train, X_test, y_train, y_test = train_test_split(X, y, test_size = .20, random_state = 42, stratify=y)\n",
        "X_train.shape, X_test.shape, y_train.shape, y_test.shape\n"
      ],
      "execution_count": null,
      "outputs": [
        {
          "output_type": "execute_result",
          "data": {
            "text/plain": [
              "((78360, 6), (19590, 6), (78360,), (19590,))"
            ]
          },
          "metadata": {
            "tags": []
          },
          "execution_count": 33
        }
      ]
    },
    {
      "cell_type": "markdown",
      "metadata": {
        "id": "D6l1ABuK7UZG"
      },
      "source": [
        "## Sklearn Classification Algorithms"
      ]
    },
    {
      "cell_type": "markdown",
      "metadata": {
        "id": "fBV7mFWFWJ1P"
      },
      "source": [
        "Firstly, three different classification algorithms from the Sklearn library are used in an Optuna wrapper to choose both the best classifier and the best hyperparameters of that classifier. To do so, cross-validation is done on the train dataset (stratified split, 4 folds) and the mean F1-score (macro) across all folds is the value to maximize. After that, the model is trained on the entire training dataset with the hyperparameters selected and used on the test set to evaluate performance."
      ]
    },
    {
      "cell_type": "code",
      "metadata": {
        "id": "cidYPmJG75zy",
        "colab": {
          "base_uri": "https://localhost:8080/",
          "height": 1000,
          "referenced_widgets": [
            "7124b855c64f4eecaa8f87b98e43c76c",
            "f4ada4d2df22412eb30147c60a80e4f1",
            "c3c00f823e7d41889c8ee039d48fbcc8",
            "2f9771599cdb4561bc7fb6af1441735f",
            "f81b5f5d6521499e9ed8e8c164f7f733",
            "a3f2549626bb4946a9c5651028f30e12",
            "808323fe28174729aab2faf6a65380a8",
            "b38524bfbf9f47a4b6af6c35349932db"
          ]
        },
        "outputId": "6159b2aa-7491-477b-c267-80c30d14e852"
      },
      "source": [
        "#Optuna wrapper to optimize both the classifier and the hyperparameters of the classifier\n",
        "def objective(trial):\n",
        "  classifier_name = trial.suggest_categorical(\"classifier\", [\"KNeighborsClassifier\", \"DecisionTreeClassifier\", \"RandomForest\"])\n",
        "\n",
        "  if classifier_name == \"KNeighborsClassifier\":\n",
        "    neighbors = trial.suggest_int(\"neighbors\", 3, 15)\n",
        "    weights = trial.suggest_categorical(\"weights\", ['uniform', 'distance'])\n",
        "    classifier_obj = KNeighborsClassifier(weights=weights, n_neighbors=neighbors)\n",
        "  elif classifier_name == \"RandomForest\":\n",
        "    rf_max_depth = trial.suggest_int(\"rf_max_depth\", 10, 40, log=True)\n",
        "    rf_estimators = trial.suggest_int(\"rf_estimators\", 10, 100)\n",
        "    classifier_obj = RandomForestClassifier(max_depth=rf_max_depth, n_estimators=rf_estimators)\n",
        "  elif classifier_name == \"DecisionTreeClassifier\":\n",
        "    dt_max_depth = trial.suggest_int(\"dt_max_depth\", 10, 40, log=True)\n",
        "    classifier_obj = DecisionTreeClassifier(max_depth=dt_max_depth)\n",
        "\n",
        "  folds = StratifiedKFold(n_splits=4)                                           #stratified K-fold cross-validator with 4 folds\n",
        "  score = cross_val_score(classifier_obj, X_train, y_train, cv=folds, scoring='f1_macro', n_jobs=-1)\n",
        "  return score.mean()\n",
        "\n",
        "study = optuna.create_study(direction=\"maximize\")                               #the objective is to maximize the metric selected (F1-score macro)\n",
        "study.optimize(objective, n_trials=50, show_progress_bar=True)                  #50 different trials are run to select the best model and parameters\n",
        "print(\"Best Value: \", study.best_trial.value)\n",
        "print(\"Best Parameters: \")\n",
        "for key, value in study.best_trial.params.items():\n",
        "  print(f\" {key}: {value}\")"
      ],
      "execution_count": null,
      "outputs": [
        {
          "output_type": "stream",
          "text": [
            "\u001b[32m[I 2021-06-13 09:48:36,578]\u001b[0m A new study created in memory with name: no-name-1323119d-4dbb-4218-9504-b4daed858901\u001b[0m\n",
            "/usr/local/lib/python3.7/dist-packages/optuna/progress_bar.py:47: ExperimentalWarning:\n",
            "\n",
            "Progress bar is experimental (supported from v1.2.0). The interface can change in the future.\n",
            "\n"
          ],
          "name": "stderr"
        },
        {
          "output_type": "display_data",
          "data": {
            "application/vnd.jupyter.widget-view+json": {
              "model_id": "7124b855c64f4eecaa8f87b98e43c76c",
              "version_minor": 0,
              "version_major": 2
            },
            "text/plain": [
              "HBox(children=(FloatProgress(value=0.0, max=50.0), HTML(value='')))"
            ]
          },
          "metadata": {
            "tags": []
          }
        },
        {
          "output_type": "stream",
          "text": [
            "\u001b[32m[I 2021-06-13 09:49:31,278]\u001b[0m Trial 0 finished with value: 0.566922554665264 and parameters: {'classifier': 'DecisionTreeClassifier', 'dt_max_depth': 25}. Best is trial 0 with value: 0.566922554665264.\u001b[0m\n",
            "\u001b[32m[I 2021-06-13 09:49:46,986]\u001b[0m Trial 1 finished with value: 0.5455510858157715 and parameters: {'classifier': 'RandomForest', 'rf_max_depth': 14, 'rf_estimators': 34}. Best is trial 0 with value: 0.566922554665264.\u001b[0m\n",
            "\u001b[32m[I 2021-06-13 09:50:27,282]\u001b[0m Trial 2 finished with value: 0.5236717410746643 and parameters: {'classifier': 'DecisionTreeClassifier', 'dt_max_depth': 12}. Best is trial 0 with value: 0.566922554665264.\u001b[0m\n",
            "\u001b[32m[I 2021-06-13 09:50:31,898]\u001b[0m Trial 3 finished with value: 0.5126431461861933 and parameters: {'classifier': 'RandomForest', 'rf_max_depth': 12, 'rf_estimators': 11}. Best is trial 0 with value: 0.566922554665264.\u001b[0m\n",
            "\u001b[32m[I 2021-06-13 09:50:34,588]\u001b[0m Trial 4 finished with value: 0.5734879237721167 and parameters: {'classifier': 'KNeighborsClassifier', 'neighbors': 14, 'weights': 'distance'}. Best is trial 4 with value: 0.5734879237721167.\u001b[0m\n",
            "\u001b[32m[I 2021-06-13 09:51:11,242]\u001b[0m Trial 5 finished with value: 0.5672185445620297 and parameters: {'classifier': 'RandomForest', 'rf_max_depth': 39, 'rf_estimators': 68}. Best is trial 4 with value: 0.5734879237721167.\u001b[0m\n",
            "\u001b[32m[I 2021-06-13 09:51:46,998]\u001b[0m Trial 6 finished with value: 0.5627023215820717 and parameters: {'classifier': 'RandomForest', 'rf_max_depth': 31, 'rf_estimators': 66}. Best is trial 4 with value: 0.5734879237721167.\u001b[0m\n",
            "\u001b[32m[I 2021-06-13 09:52:39,481]\u001b[0m Trial 7 finished with value: 0.5673296435324349 and parameters: {'classifier': 'DecisionTreeClassifier', 'dt_max_depth': 21}. Best is trial 4 with value: 0.5734879237721167.\u001b[0m\n",
            "\u001b[32m[I 2021-06-13 09:53:28,464]\u001b[0m Trial 8 finished with value: 0.5655277599849061 and parameters: {'classifier': 'RandomForest', 'rf_max_depth': 40, 'rf_estimators': 91}. Best is trial 4 with value: 0.5734879237721167.\u001b[0m\n",
            "\u001b[32m[I 2021-06-13 09:53:33,087]\u001b[0m Trial 9 finished with value: 0.5615749785278576 and parameters: {'classifier': 'KNeighborsClassifier', 'neighbors': 14, 'weights': 'uniform'}. Best is trial 4 with value: 0.5734879237721167.\u001b[0m\n",
            "\u001b[32m[I 2021-06-13 09:53:35,050]\u001b[0m Trial 10 finished with value: 0.5780601380791965 and parameters: {'classifier': 'KNeighborsClassifier', 'neighbors': 5, 'weights': 'distance'}. Best is trial 10 with value: 0.5780601380791965.\u001b[0m\n",
            "\u001b[32m[I 2021-06-13 09:53:36,770]\u001b[0m Trial 11 finished with value: 0.5625617107653859 and parameters: {'classifier': 'KNeighborsClassifier', 'neighbors': 3, 'weights': 'distance'}. Best is trial 10 with value: 0.5780601380791965.\u001b[0m\n",
            "\u001b[32m[I 2021-06-13 09:53:38,777]\u001b[0m Trial 12 finished with value: 0.5795471155833574 and parameters: {'classifier': 'KNeighborsClassifier', 'neighbors': 6, 'weights': 'distance'}. Best is trial 12 with value: 0.5795471155833574.\u001b[0m\n",
            "\u001b[32m[I 2021-06-13 09:53:40,701]\u001b[0m Trial 13 finished with value: 0.5780601380791965 and parameters: {'classifier': 'KNeighborsClassifier', 'neighbors': 5, 'weights': 'distance'}. Best is trial 12 with value: 0.5795471155833574.\u001b[0m\n",
            "\u001b[32m[I 2021-06-13 09:53:42,863]\u001b[0m Trial 14 finished with value: 0.5796572401655545 and parameters: {'classifier': 'KNeighborsClassifier', 'neighbors': 7, 'weights': 'distance'}. Best is trial 14 with value: 0.5796572401655545.\u001b[0m\n",
            "\u001b[32m[I 2021-06-13 09:53:45,181]\u001b[0m Trial 15 finished with value: 0.5796587193308835 and parameters: {'classifier': 'KNeighborsClassifier', 'neighbors': 9, 'weights': 'distance'}. Best is trial 15 with value: 0.5796587193308835.\u001b[0m\n",
            "\u001b[32m[I 2021-06-13 09:53:47,536]\u001b[0m Trial 16 finished with value: 0.5796587193308835 and parameters: {'classifier': 'KNeighborsClassifier', 'neighbors': 9, 'weights': 'distance'}. Best is trial 15 with value: 0.5796587193308835.\u001b[0m\n",
            "\u001b[32m[I 2021-06-13 09:53:51,777]\u001b[0m Trial 17 finished with value: 0.5655779010288167 and parameters: {'classifier': 'KNeighborsClassifier', 'neighbors': 10, 'weights': 'uniform'}. Best is trial 15 with value: 0.5796587193308835.\u001b[0m\n",
            "\u001b[32m[I 2021-06-13 09:53:54,156]\u001b[0m Trial 18 finished with value: 0.5781262016975275 and parameters: {'classifier': 'KNeighborsClassifier', 'neighbors': 10, 'weights': 'distance'}. Best is trial 15 with value: 0.5796587193308835.\u001b[0m\n",
            "\u001b[32m[I 2021-06-13 09:53:56,739]\u001b[0m Trial 19 finished with value: 0.574281794943234 and parameters: {'classifier': 'KNeighborsClassifier', 'neighbors': 12, 'weights': 'distance'}. Best is trial 15 with value: 0.5796587193308835.\u001b[0m\n",
            "\u001b[32m[I 2021-06-13 09:53:58,971]\u001b[0m Trial 20 finished with value: 0.5802476718368375 and parameters: {'classifier': 'KNeighborsClassifier', 'neighbors': 8, 'weights': 'distance'}. Best is trial 20 with value: 0.5802476718368375.\u001b[0m\n",
            "\u001b[32m[I 2021-06-13 09:54:01,226]\u001b[0m Trial 21 finished with value: 0.5802476718368375 and parameters: {'classifier': 'KNeighborsClassifier', 'neighbors': 8, 'weights': 'distance'}. Best is trial 20 with value: 0.5802476718368375.\u001b[0m\n",
            "\u001b[32m[I 2021-06-13 09:54:03,473]\u001b[0m Trial 22 finished with value: 0.5802476718368375 and parameters: {'classifier': 'KNeighborsClassifier', 'neighbors': 8, 'weights': 'distance'}. Best is trial 20 with value: 0.5802476718368375.\u001b[0m\n",
            "\u001b[32m[I 2021-06-13 09:54:05,674]\u001b[0m Trial 23 finished with value: 0.5796572401655545 and parameters: {'classifier': 'KNeighborsClassifier', 'neighbors': 7, 'weights': 'distance'}. Best is trial 20 with value: 0.5802476718368375.\u001b[0m\n",
            "\u001b[32m[I 2021-06-13 09:54:07,940]\u001b[0m Trial 24 finished with value: 0.5802476718368375 and parameters: {'classifier': 'KNeighborsClassifier', 'neighbors': 8, 'weights': 'distance'}. Best is trial 20 with value: 0.5802476718368375.\u001b[0m\n",
            "\u001b[32m[I 2021-06-13 09:54:12,328]\u001b[0m Trial 25 finished with value: 0.5649583796175243 and parameters: {'classifier': 'KNeighborsClassifier', 'neighbors': 11, 'weights': 'uniform'}. Best is trial 20 with value: 0.5802476718368375.\u001b[0m\n",
            "\u001b[32m[I 2021-06-13 09:54:49,943]\u001b[0m Trial 26 finished with value: 0.5086629953952544 and parameters: {'classifier': 'DecisionTreeClassifier', 'dt_max_depth': 11}. Best is trial 20 with value: 0.5802476718368375.\u001b[0m\n",
            "\u001b[32m[I 2021-06-13 09:54:52,178]\u001b[0m Trial 27 finished with value: 0.5802476718368375 and parameters: {'classifier': 'KNeighborsClassifier', 'neighbors': 8, 'weights': 'distance'}. Best is trial 20 with value: 0.5802476718368375.\u001b[0m\n",
            "\u001b[32m[I 2021-06-13 09:54:54,318]\u001b[0m Trial 28 finished with value: 0.5796572401655545 and parameters: {'classifier': 'KNeighborsClassifier', 'neighbors': 7, 'weights': 'distance'}. Best is trial 20 with value: 0.5802476718368375.\u001b[0m\n",
            "\u001b[32m[I 2021-06-13 09:55:48,569]\u001b[0m Trial 29 finished with value: 0.5656399335066224 and parameters: {'classifier': 'DecisionTreeClassifier', 'dt_max_depth': 40}. Best is trial 20 with value: 0.5802476718368375.\u001b[0m\n",
            "\u001b[32m[I 2021-06-13 09:55:50,432]\u001b[0m Trial 30 finished with value: 0.5746290185721534 and parameters: {'classifier': 'KNeighborsClassifier', 'neighbors': 4, 'weights': 'distance'}. Best is trial 20 with value: 0.5802476718368375.\u001b[0m\n",
            "\u001b[32m[I 2021-06-13 09:55:52,685]\u001b[0m Trial 31 finished with value: 0.5802476718368375 and parameters: {'classifier': 'KNeighborsClassifier', 'neighbors': 8, 'weights': 'distance'}. Best is trial 20 with value: 0.5802476718368375.\u001b[0m\n",
            "\u001b[32m[I 2021-06-13 09:55:54,934]\u001b[0m Trial 32 finished with value: 0.5802476718368375 and parameters: {'classifier': 'KNeighborsClassifier', 'neighbors': 8, 'weights': 'distance'}. Best is trial 20 with value: 0.5802476718368375.\u001b[0m\n",
            "\u001b[32m[I 2021-06-13 09:55:57,377]\u001b[0m Trial 33 finished with value: 0.5781262016975275 and parameters: {'classifier': 'KNeighborsClassifier', 'neighbors': 10, 'weights': 'distance'}. Best is trial 20 with value: 0.5802476718368375.\u001b[0m\n",
            "\u001b[32m[I 2021-06-13 09:55:59,646]\u001b[0m Trial 34 finished with value: 0.5802476718368375 and parameters: {'classifier': 'KNeighborsClassifier', 'neighbors': 8, 'weights': 'distance'}. Best is trial 20 with value: 0.5802476718368375.\u001b[0m\n",
            "\u001b[32m[I 2021-06-13 09:56:01,716]\u001b[0m Trial 35 finished with value: 0.5795471155833574 and parameters: {'classifier': 'KNeighborsClassifier', 'neighbors': 6, 'weights': 'distance'}. Best is trial 20 with value: 0.5802476718368375.\u001b[0m\n",
            "\u001b[32m[I 2021-06-13 09:56:55,768]\u001b[0m Trial 36 finished with value: 0.5657915807918544 and parameters: {'classifier': 'DecisionTreeClassifier', 'dt_max_depth': 40}. Best is trial 20 with value: 0.5802476718368375.\u001b[0m\n",
            "\u001b[32m[I 2021-06-13 09:57:01,401]\u001b[0m Trial 37 finished with value: 0.5477377040680137 and parameters: {'classifier': 'RandomForest', 'rf_max_depth': 22, 'rf_estimators': 10}. Best is trial 20 with value: 0.5802476718368375.\u001b[0m\n",
            "\u001b[32m[I 2021-06-13 09:57:03,713]\u001b[0m Trial 38 finished with value: 0.5796587193308835 and parameters: {'classifier': 'KNeighborsClassifier', 'neighbors': 9, 'weights': 'distance'}. Best is trial 20 with value: 0.5802476718368375.\u001b[0m\n",
            "\u001b[32m[I 2021-06-13 09:57:54,947]\u001b[0m Trial 39 finished with value: 0.5651752451347601 and parameters: {'classifier': 'RandomForest', 'rf_max_depth': 19, 'rf_estimators': 98}. Best is trial 20 with value: 0.5802476718368375.\u001b[0m\n",
            "\u001b[32m[I 2021-06-13 09:57:59,015]\u001b[0m Trial 40 finished with value: 0.5683060947569082 and parameters: {'classifier': 'KNeighborsClassifier', 'neighbors': 6, 'weights': 'uniform'}. Best is trial 20 with value: 0.5802476718368375.\u001b[0m\n",
            "\u001b[32m[I 2021-06-13 09:58:01,266]\u001b[0m Trial 41 finished with value: 0.5802476718368375 and parameters: {'classifier': 'KNeighborsClassifier', 'neighbors': 8, 'weights': 'distance'}. Best is trial 20 with value: 0.5802476718368375.\u001b[0m\n",
            "\u001b[32m[I 2021-06-13 09:58:03,442]\u001b[0m Trial 42 finished with value: 0.5796572401655545 and parameters: {'classifier': 'KNeighborsClassifier', 'neighbors': 7, 'weights': 'distance'}. Best is trial 20 with value: 0.5802476718368375.\u001b[0m\n",
            "\u001b[32m[I 2021-06-13 09:58:05,696]\u001b[0m Trial 43 finished with value: 0.5802476718368375 and parameters: {'classifier': 'KNeighborsClassifier', 'neighbors': 8, 'weights': 'distance'}. Best is trial 20 with value: 0.5802476718368375.\u001b[0m\n",
            "\u001b[32m[I 2021-06-13 09:58:08,006]\u001b[0m Trial 44 finished with value: 0.5796587193308835 and parameters: {'classifier': 'KNeighborsClassifier', 'neighbors': 9, 'weights': 'distance'}. Best is trial 20 with value: 0.5802476718368375.\u001b[0m\n",
            "\u001b[32m[I 2021-06-13 09:58:10,496]\u001b[0m Trial 45 finished with value: 0.5748870166753715 and parameters: {'classifier': 'KNeighborsClassifier', 'neighbors': 11, 'weights': 'distance'}. Best is trial 20 with value: 0.5802476718368375.\u001b[0m\n",
            "\u001b[32m[I 2021-06-13 09:58:12,673]\u001b[0m Trial 46 finished with value: 0.5796572401655545 and parameters: {'classifier': 'KNeighborsClassifier', 'neighbors': 7, 'weights': 'distance'}. Best is trial 20 with value: 0.5802476718368375.\u001b[0m\n",
            "\u001b[32m[I 2021-06-13 09:58:34,409]\u001b[0m Trial 47 finished with value: 0.5633467920855756 and parameters: {'classifier': 'RandomForest', 'rf_max_depth': 25, 'rf_estimators': 40}. Best is trial 20 with value: 0.5802476718368375.\u001b[0m\n",
            "\u001b[32m[I 2021-06-13 09:58:36,690]\u001b[0m Trial 48 finished with value: 0.5802476718368375 and parameters: {'classifier': 'KNeighborsClassifier', 'neighbors': 8, 'weights': 'distance'}. Best is trial 20 with value: 0.5802476718368375.\u001b[0m\n",
            "\u001b[32m[I 2021-06-13 09:59:23,857]\u001b[0m Trial 49 finished with value: 0.5506459676012596 and parameters: {'classifier': 'DecisionTreeClassifier', 'dt_max_depth': 15}. Best is trial 20 with value: 0.5802476718368375.\u001b[0m\n",
            "\n",
            "Best Value:  0.5802476718368375\n",
            "Best Parameters: \n",
            " classifier: KNeighborsClassifier\n",
            " neighbors: 8\n",
            " weights: distance\n"
          ],
          "name": "stdout"
        }
      ]
    },
    {
      "cell_type": "code",
      "metadata": {
        "colab": {
          "base_uri": "https://localhost:8080/"
        },
        "id": "jDfuD7zrXBgN",
        "outputId": "0edda753-918d-432d-a401-bfd6392be0a4"
      },
      "source": [
        "#Using the classifier and the hyperparameters chosen, first train on the entire training dataset and then predict the labels on the test dataset\n",
        "classifier_obj = KNeighborsClassifier(weights='distance', n_neighbors=8)\n",
        "classifier_obj.fit(X_train, y_train)\n",
        "pred = classifier_obj.predict(X_test)\n",
        "f1_macro = f1_score(y_test, pred, average='macro')\n",
        "print(f1_macro)"
      ],
      "execution_count": null,
      "outputs": [
        {
          "output_type": "stream",
          "text": [
            "0.6025659710101983\n"
          ],
          "name": "stdout"
        }
      ]
    },
    {
      "cell_type": "markdown",
      "metadata": {
        "id": "jyDKP57bKtV0"
      },
      "source": [
        "The best sklearn machine learning algorithm on the dataset is K-Nearest Neighbors with the following hyperparameters: \n",
        "\n",
        "*   Neighbors: 8\n",
        "*   Weights (weight function): distance\n",
        "\n",
        "This achieves a mean F1-score (macro) of 0.5802476718368375 (58.02%) during cross-validation and an F1-score (macro) of 0.6025659710101983 (60.26%) on the test dataset."
      ]
    },
    {
      "cell_type": "markdown",
      "metadata": {
        "id": "oCJPwV4acug8"
      },
      "source": [
        "## CatBoost Classifier"
      ]
    },
    {
      "cell_type": "markdown",
      "metadata": {
        "id": "6cjs2LvbXMOX"
      },
      "source": [
        "A CatBoost classifier is also used and optimized using the Optuna framework through cross-validation in the same way as before. After that, the model is evaluated on the test dataset."
      ]
    },
    {
      "cell_type": "code",
      "metadata": {
        "colab": {
          "base_uri": "https://localhost:8080/",
          "height": 758,
          "referenced_widgets": [
            "e414b64f865043f492580aa80a49aec9",
            "d96647d959da44dab462bc008bc70563",
            "2b3538db73d24c8f81a72197eb67a67c",
            "553abb8549fc4d608903e39f54a72c96",
            "c858e10a47e3453a924c36d1f3680a33",
            "50ef83699c7741b69ade99116b606e57",
            "a8b7ca04900e4e8881111fe2502cf135",
            "79a7a79446794baa87c3de450c890ea9"
          ]
        },
        "id": "Oo2TC9fbLXs8",
        "outputId": "6fef3316-3cc6-4234-b60f-540c6b9204a7"
      },
      "source": [
        "#Optuna wrapper to optimize the hyperparameters of the CatBoost classifier\n",
        "def objective(trial):\n",
        "  param = {\n",
        "      'iterations': trial.suggest_int('iterations', 350, 500),                  #maximum number of trees that can be built                   \n",
        "      'depth': trial.suggest_int('depth', 8, 10),                               #depth of the tree     \n",
        "      'learning_rate': trial.suggest_float('learning_rate', 0.1, 0.3),          #learning rate    \n",
        "      'random_strength': trial.suggest_float('random_strength', 0, 100),        #the amount of randomness for scoring splits when the tree structure is selected           \n",
        "      'l2_leaf_reg': trial.suggest_float('l2_leaf_reg', 1, 10),                 #coefficient at the L2 regularization term of the cost function\n",
        "      'logging_level': 'Silent'}                                                #to avoid output of logging information (only the Optuna information is printed)\n",
        "\n",
        "  cb_model = cb.CatBoostClassifier(**param)\n",
        "  folds = StratifiedKFold(n_splits=4)                                           #stratified K-fold cross-validator with 4 folds\n",
        "  score = cross_val_score(cb_model, X_train, y_train, cv=folds, scoring='f1_macro', n_jobs=-1)\n",
        "  return score.mean()\n",
        "\n",
        "study = optuna.create_study(direction=\"maximize\")                               #the objective is to maximize the metric selected (F1-score macro)\n",
        "study.optimize(objective, n_trials=20, show_progress_bar=True)                  #20 different trials are run to select the best hyperparameters\n",
        "print(\"Best Value: \", study.best_trial.value)\n",
        "print(\"Best Parameters: \")\n",
        "for key, value in study.best_trial.params.items():\n",
        "  print(f\" {key}: {value}\")"
      ],
      "execution_count": null,
      "outputs": [
        {
          "output_type": "stream",
          "text": [
            "\u001b[32m[I 2021-06-13 07:46:32,180]\u001b[0m A new study created in memory with name: no-name-a0d0ee0a-e442-4369-a690-57b0abafd7af\u001b[0m\n",
            "/usr/local/lib/python3.7/dist-packages/optuna/progress_bar.py:47: ExperimentalWarning:\n",
            "\n",
            "Progress bar is experimental (supported from v1.2.0). The interface can change in the future.\n",
            "\n"
          ],
          "name": "stderr"
        },
        {
          "output_type": "display_data",
          "data": {
            "application/vnd.jupyter.widget-view+json": {
              "model_id": "e414b64f865043f492580aa80a49aec9",
              "version_major": 2,
              "version_minor": 0
            },
            "text/plain": [
              "HBox(children=(FloatProgress(value=0.0, max=20.0), HTML(value='')))"
            ]
          },
          "metadata": {
            "tags": []
          }
        },
        {
          "output_type": "stream",
          "text": [
            "\u001b[32m[I 2021-06-13 07:52:54,137]\u001b[0m Trial 0 finished with value: 0.5886664776905712 and parameters: {'iterations': 351, 'depth': 10, 'learning_rate': 0.23924413896327923, 'random_strength': 88.01050338833024, 'l2_leaf_reg': 8.289163439958795}. Best is trial 0 with value: 0.5886664776905712.\u001b[0m\n",
            "\u001b[32m[I 2021-06-13 07:57:06,613]\u001b[0m Trial 1 finished with value: 0.5894722034769488 and parameters: {'iterations': 362, 'depth': 9, 'learning_rate': 0.2483583563567805, 'random_strength': 4.077948358989003, 'l2_leaf_reg': 2.9356924685812587}. Best is trial 1 with value: 0.5894722034769488.\u001b[0m\n",
            "\u001b[32m[I 2021-06-13 08:01:03,557]\u001b[0m Trial 2 finished with value: 0.59094939672328 and parameters: {'iterations': 487, 'depth': 8, 'learning_rate': 0.27391405528459256, 'random_strength': 30.505858695190856, 'l2_leaf_reg': 9.033859803948024}. Best is trial 2 with value: 0.59094939672328.\u001b[0m\n",
            "\u001b[32m[I 2021-06-13 08:09:55,707]\u001b[0m Trial 3 finished with value: 0.589987077503162 and parameters: {'iterations': 489, 'depth': 10, 'learning_rate': 0.23030267570283236, 'random_strength': 74.44783356464524, 'l2_leaf_reg': 5.026096091887304}. Best is trial 2 with value: 0.59094939672328.\u001b[0m\n",
            "\u001b[32m[I 2021-06-13 08:18:04,898]\u001b[0m Trial 4 finished with value: 0.5899573149643946 and parameters: {'iterations': 449, 'depth': 10, 'learning_rate': 0.16870562586247678, 'random_strength': 70.03356767964, 'l2_leaf_reg': 6.409416271046442}. Best is trial 2 with value: 0.59094939672328.\u001b[0m\n",
            "\u001b[32m[I 2021-06-13 08:24:52,623]\u001b[0m Trial 5 finished with value: 0.5869352019511647 and parameters: {'iterations': 377, 'depth': 10, 'learning_rate': 0.1341222545257535, 'random_strength': 37.11371708195791, 'l2_leaf_reg': 7.483205470804435}. Best is trial 2 with value: 0.59094939672328.\u001b[0m\n"
          ],
          "name": "stdout"
        },
        {
          "output_type": "stream",
          "text": [
            "/usr/local/lib/python3.7/dist-packages/joblib/externals/loky/process_executor.py:691: UserWarning:\n",
            "\n",
            "A worker stopped while some jobs were given to the executor. This can be caused by a too short worker timeout or by a memory leak.\n",
            "\n"
          ],
          "name": "stderr"
        },
        {
          "output_type": "stream",
          "text": [
            "\u001b[32m[I 2021-06-13 08:33:09,468]\u001b[0m Trial 6 finished with value: 0.5886377047948269 and parameters: {'iterations': 455, 'depth': 10, 'learning_rate': 0.16731621701045893, 'random_strength': 98.91462131005862, 'l2_leaf_reg': 5.3482615905462065}. Best is trial 2 with value: 0.59094939672328.\u001b[0m\n",
            "\u001b[32m[I 2021-06-13 08:38:51,678]\u001b[0m Trial 7 finished with value: 0.58809848093803 and parameters: {'iterations': 491, 'depth': 9, 'learning_rate': 0.2615066712350902, 'random_strength': 46.452796896782814, 'l2_leaf_reg': 2.5969012047865663}. Best is trial 2 with value: 0.59094939672328.\u001b[0m\n",
            "\u001b[32m[I 2021-06-13 08:47:16,499]\u001b[0m Trial 8 finished with value: 0.5880006721451416 and parameters: {'iterations': 465, 'depth': 10, 'learning_rate': 0.1259338088595599, 'random_strength': 90.13883489984845, 'l2_leaf_reg': 5.081161276949234}. Best is trial 2 with value: 0.59094939672328.\u001b[0m\n",
            "\u001b[32m[I 2021-06-13 08:50:27,992]\u001b[0m Trial 9 finished with value: 0.5878534351372683 and parameters: {'iterations': 390, 'depth': 8, 'learning_rate': 0.2252446738938562, 'random_strength': 8.595647680702045, 'l2_leaf_reg': 2.962944462269138}. Best is trial 2 with value: 0.59094939672328.\u001b[0m\n",
            "\u001b[32m[I 2021-06-13 08:53:49,454]\u001b[0m Trial 10 finished with value: 0.5887275613209052 and parameters: {'iterations': 412, 'depth': 8, 'learning_rate': 0.2987777839888841, 'random_strength': 23.04824434742057, 'l2_leaf_reg': 9.790506846283874}. Best is trial 2 with value: 0.59094939672328.\u001b[0m\n",
            "\u001b[32m[I 2021-06-13 08:57:53,560]\u001b[0m Trial 11 finished with value: 0.5875377419041963 and parameters: {'iterations': 498, 'depth': 8, 'learning_rate': 0.2821221007258925, 'random_strength': 63.73512671563216, 'l2_leaf_reg': 9.946269700226056}. Best is trial 2 with value: 0.59094939672328.\u001b[0m\n",
            "\u001b[32m[I 2021-06-13 09:03:28,061]\u001b[0m Trial 12 finished with value: 0.5928332077182703 and parameters: {'iterations': 477, 'depth': 9, 'learning_rate': 0.21090236746062868, 'random_strength': 66.69315313890456, 'l2_leaf_reg': 4.358736469861203}. Best is trial 12 with value: 0.5928332077182703.\u001b[0m\n",
            "\u001b[32m[I 2021-06-13 09:09:00,042]\u001b[0m Trial 13 finished with value: 0.5919073720862785 and parameters: {'iterations': 472, 'depth': 9, 'learning_rate': 0.1722559803163497, 'random_strength': 29.46508428402157, 'l2_leaf_reg': 1.1559810205565348}. Best is trial 12 with value: 0.5928332077182703.\u001b[0m\n"
          ],
          "name": "stdout"
        },
        {
          "output_type": "stream",
          "text": [
            "/usr/local/lib/python3.7/dist-packages/joblib/externals/loky/process_executor.py:691: UserWarning:\n",
            "\n",
            "A worker stopped while some jobs were given to the executor. This can be caused by a too short worker timeout or by a memory leak.\n",
            "\n"
          ],
          "name": "stderr"
        },
        {
          "output_type": "stream",
          "text": [
            "\u001b[32m[I 2021-06-13 09:14:04,973]\u001b[0m Trial 14 finished with value: 0.5882835226280695 and parameters: {'iterations': 433, 'depth': 9, 'learning_rate': 0.19403193233893964, 'random_strength': 52.01444693980795, 'l2_leaf_reg': 1.0549597174101761}. Best is trial 12 with value: 0.5928332077182703.\u001b[0m\n",
            "\u001b[32m[I 2021-06-13 09:19:32,146]\u001b[0m Trial 15 finished with value: 0.5888822406821823 and parameters: {'iterations': 472, 'depth': 9, 'learning_rate': 0.19251332918005196, 'random_strength': 17.32890272302765, 'l2_leaf_reg': 1.4705387754989214}. Best is trial 12 with value: 0.5928332077182703.\u001b[0m\n",
            "\u001b[32m[I 2021-06-13 09:24:28,798]\u001b[0m Trial 16 finished with value: 0.5883376577970084 and parameters: {'iterations': 432, 'depth': 9, 'learning_rate': 0.15608855008395167, 'random_strength': 50.210242434766585, 'l2_leaf_reg': 3.9109630527178023}. Best is trial 12 with value: 0.5928332077182703.\u001b[0m\n",
            "\u001b[32m[I 2021-06-13 09:29:56,637]\u001b[0m Trial 17 finished with value: 0.5930981166853392 and parameters: {'iterations': 476, 'depth': 9, 'learning_rate': 0.21083595159554427, 'random_strength': 58.404583912540765, 'l2_leaf_reg': 2.053555129237073}. Best is trial 17 with value: 0.5930981166853392.\u001b[0m\n",
            "\u001b[32m[I 2021-06-13 09:35:08,788]\u001b[0m Trial 18 finished with value: 0.589290420176986 and parameters: {'iterations': 451, 'depth': 9, 'learning_rate': 0.21230021928570297, 'random_strength': 60.66836898186611, 'l2_leaf_reg': 2.111475581772674}. Best is trial 17 with value: 0.5930981166853392.\u001b[0m\n",
            "\u001b[32m[I 2021-06-13 09:39:54,240]\u001b[0m Trial 19 finished with value: 0.5922752663242121 and parameters: {'iterations': 413, 'depth': 9, 'learning_rate': 0.21145936465144038, 'random_strength': 79.50135377071268, 'l2_leaf_reg': 3.9017591166384906}. Best is trial 17 with value: 0.5930981166853392.\u001b[0m\n",
            "\n",
            "Best Value:  0.5930981166853392\n",
            "Best Parameters: \n",
            " iterations: 476\n",
            " depth: 9\n",
            " learning_rate: 0.21083595159554427\n",
            " random_strength: 58.404583912540765\n",
            " l2_leaf_reg: 2.053555129237073\n"
          ],
          "name": "stdout"
        }
      ]
    },
    {
      "cell_type": "code",
      "metadata": {
        "colab": {
          "base_uri": "https://localhost:8080/"
        },
        "id": "7ZWBYiE1rIJY",
        "outputId": "7d22d223-05d3-48bf-9869-15ab3bbef3e1"
      },
      "source": [
        "#Now the model is trained with the entire training dataset and the hyperparameters selected, then used to predict the labels of the test set\n",
        "param = {\n",
        "      'iterations': 476,                    \n",
        "      'depth': 9,\n",
        "      'learning_rate': 0.21083595159554427,    \n",
        "      'random_strength': 58.404583912540765,                  \n",
        "      'l2_leaf_reg': 2.053555129237073,               \n",
        "      'logging_level': 'Silent'}                                                \n",
        "\n",
        "cb_train = cb.Pool(X_train, y_train)\n",
        "cb_model = cb.CatBoostClassifier(**param)\n",
        "cb_model.fit(cb_train)\n",
        "preds = cb_model.predict(X_test)\n",
        "f1_macro = f1_score(y_test, preds, average='macro')\n",
        "print(\"\\n\", f1_macro)\n"
      ],
      "execution_count": null,
      "outputs": [
        {
          "output_type": "stream",
          "text": [
            "\n",
            " 0.6028103567729963\n"
          ],
          "name": "stdout"
        }
      ]
    },
    {
      "cell_type": "markdown",
      "metadata": {
        "id": "p7GxYbOOvsIA"
      },
      "source": [
        "The best CatBoost hyperparameters for this dataset are:\n",
        "\n",
        "\n",
        "*   Iterations: 476\n",
        "*   Depth: 9\n",
        "*   Learning_rate: 0.21083595159554427\n",
        "*   Random_strength: 58.404583912540765\n",
        "*   L2_leaf_reg: 2.053555129237073\n",
        "\n",
        "\n",
        "This achieves a mean F1-score (macro) of 0.5930981166853392 (59.31%) during cross-validation and an F1-score (macro) of 0.6028103567729963 (60.28%) on the test dataset."
      ]
    },
    {
      "cell_type": "markdown",
      "metadata": {
        "id": "ZFQLCfjIOB3u"
      },
      "source": [
        "# Conclusion"
      ]
    },
    {
      "cell_type": "markdown",
      "metadata": {
        "id": "qMdUkWZ2YRQ_"
      },
      "source": [
        "This dataset contains 12 fields, of which the last one contains the labels to predict. As such, this is a multi-class classification problem. There are 8 possible labels, although the dataset is very imbalanced with regards to how many entries there are per label. This is the reason why stratified splitting was chosen both for cross-validation and for the train/test split. In terms of the data, there are many null fields, so those are removed first. This results in 97950 entries out of the initial 127321 entries. After looking at the correlation between variables, the column gamma_1 is dropped since it contains the exact same data as column beta_2. Additionally, from looking at the boxplots of each feature across the labels to predict, I decided to drop the variables alpha_2, beta_3, gamma_2 and noise because they show very little variation across labels and their correlation with the Particle field is extremely low.\n",
        "\n",
        "With regardss to the machine learning algorithms, one model has been selected from the traditional Sklearn algorithms and one from the newest set of algorithms for gradient boosting on decision trees. **The model that performs the best both during cross-validation and on the test dataset is CatBoost, with a macro F1-score of 0.5931 (59.31%) during cross-validation and a macro F1-score of 0.6028 (60.28%) on the test dataset.** That is the final model that I choose for this task and this dataset because of its very good performance, it is faster than other algorithms (XGBoost and SVC, for example) and it is easy to implement. However, the Sklearn algorithm selected, K-Nearest Neighbors, is only slightly worse than CatBoost and yet it is much faster, so it would also be a good alternative for this dataset.\n",
        "\n",
        "Additionally, I used Optuna to select the best hyperparameters since it is an optimization framework that is very easy to incorporate to any model and library that needs hyperparameter optimization and it allows for cross-validation within it."
      ]
    }
  ]
}